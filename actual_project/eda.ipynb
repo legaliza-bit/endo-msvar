{
 "cells": [
  {
   "cell_type": "code",
   "execution_count": 1,
   "metadata": {},
   "outputs": [],
   "source": [
    "import numpy as np\n",
    "import pandas as pd\n",
    "import warnings\n",
    "import matplotlib.pyplot as plt\n",
    "import seaborn as sns\n",
    "\n",
    "warnings.filterwarnings(\"ignore\")\n",
    "pd.set_option(\"display.float_format\", lambda x: \"%.7f\" % x)\n",
    "\n",
    "from model import EMSAR\n",
    "from model_jax import EMSAR_jax\n",
    "\n",
    "\n",
    "%load_ext autoreload\n",
    "%autoreload 2\n",
    "\n",
    "from experiments import simulate"
   ]
  },
  {
   "cell_type": "code",
   "execution_count": 2,
   "metadata": {},
   "outputs": [],
   "source": [
    "model = EMSAR()\n",
    "model2 = EMSAR_jax()"
   ]
  },
  {
   "cell_type": "code",
   "execution_count": 50,
   "metadata": {},
   "outputs": [],
   "source": [
    "opt_params = {\n",
    "    \"coeffs\": np.array([[1.0, -1.0], [1.0, -1.0]]),\n",
    "    \"sigmas\": np.array([0.33, 0.67]),\n",
    "    \"rho\": np.array(0.9),\n",
    "}\n",
    "\n",
    "exp_params = {\"n_obs\": 200, \"p00\": 0.7, \"p11\": 0.7}\n",
    "\n",
    "\n",
    "sim = simulate(**opt_params, **exp_params)\n",
    "states, state_exog, exog, endog = sim[\"args\"]\n",
    "opt_params[\"state_coeffs\"] = sim[\"state_coeffs\"]"
   ]
  },
  {
   "cell_type": "code",
   "execution_count": 51,
   "metadata": {},
   "outputs": [
    {
     "data": {
      "text/plain": [
       "(1, 2)"
      ]
     },
     "execution_count": 51,
     "metadata": {},
     "output_type": "execute_result"
    }
   ],
   "source": [
    "opt_params[\"state_coeffs\"].shape"
   ]
  },
  {
   "cell_type": "code",
   "execution_count": 52,
   "metadata": {},
   "outputs": [
    {
     "data": {
      "text/plain": [
       "((200, 1), (200, 2), (200, 1))"
      ]
     },
     "execution_count": 52,
     "metadata": {},
     "output_type": "execute_result"
    }
   ],
   "source": [
    "state_exog.shape, exog.shape, endog.shape"
   ]
  },
  {
   "cell_type": "code",
   "execution_count": 53,
   "metadata": {},
   "outputs": [],
   "source": [
    "model.n_obs = len(endog)\n",
    "n_feat = 2\n",
    "n_state_feat = 1\n",
    "\n",
    "init_params = model2._init_params(n_feat, n_state_feat)\n",
    "# print(coeffs, state_coeffs, rho, sigmas)\n",
    "# model.hamilton_filter(coeffs, state_coeffs, rho, sigmas, endog, exog, state_exog)\n",
    "# grad_loss = jit(grad(loss))"
   ]
  },
  {
   "cell_type": "code",
   "execution_count": 54,
   "metadata": {},
   "outputs": [
    {
     "data": {
      "text/plain": [
       "array([[ 0.29132384, -0.43727148]])"
      ]
     },
     "execution_count": 54,
     "metadata": {},
     "output_type": "execute_result"
    }
   ],
   "source": [
    "init_params[\"state_coeffs\"]"
   ]
  },
  {
   "cell_type": "code",
   "execution_count": 56,
   "metadata": {},
   "outputs": [
    {
     "name": "stderr",
     "output_type": "stream",
     "text": [
      "100%|██████████| 200/200 [00:00<00:00, 4383.08it/s]\n"
     ]
    },
    {
     "data": {
      "text/plain": [
       "309.8351807362968"
      ]
     },
     "execution_count": 56,
     "metadata": {},
     "output_type": "execute_result"
    }
   ],
   "source": [
    "model.hamilton_filter(init_params, endog, exog, state_exog)"
   ]
  },
  {
   "cell_type": "code",
   "execution_count": 57,
   "metadata": {},
   "outputs": [],
   "source": [
    "import jax.numpy as jnp\n",
    "from jax import grad, jit, vmap\n",
    "\n",
    "grad_loss = jit(grad(model2.hamilton_filter))"
   ]
  },
  {
   "cell_type": "code",
   "execution_count": 46,
   "metadata": {},
   "outputs": [
    {
     "name": "stdout",
     "output_type": "stream",
     "text": [
      "(1, 1) (1, 2)\n",
      "(200, 1) (1, 2)\n",
      "(1, 1) (1, 2)\n",
      "(200, 1) (1, 2)\n",
      "(1, 1) (1, 2)\n",
      "(200, 1) (1, 2)\n",
      "(1, 1) (1, 2)\n",
      "(200, 1) (1, 2)\n",
      "(1, 1) (1, 2)\n",
      "(200, 1) (1, 2)\n",
      "(1, 1) (1, 2)\n",
      "(200, 1) (1, 2)\n",
      "(1, 1) (1, 2)\n",
      "(200, 1) (1, 2)\n"
     ]
    },
    {
     "name": "stderr",
     "output_type": "stream",
     "text": [
      "2024-04-30 20:11:59.942543: E external/xla/xla/service/slow_operation_alarm.cc:133] The operation took 3m46.914802s\n",
      "\n",
      "********************************\n",
      "[Compiling module jit_jit_update] Very slow compile? If you want to file a bug, run with envvar XLA_FLAGS=--xla_dump_to=/tmp/foo and attach the results.\n",
      "********************************\n"
     ]
    },
    {
     "ename": "AttributeError",
     "evalue": "'list' object has no attribute 'set_xdata'",
     "output_type": "error",
     "traceback": [
      "\u001b[0;31m---------------------------------------------------------------------------\u001b[0m",
      "\u001b[0;31mAttributeError\u001b[0m                            Traceback (most recent call last)",
      "Cell \u001b[0;32mIn[46], line 32\u001b[0m\n\u001b[1;32m     30\u001b[0m \u001b[38;5;28;01mfor\u001b[39;00m i \u001b[38;5;129;01min\u001b[39;00m \u001b[38;5;28mrange\u001b[39m(\u001b[38;5;241m500\u001b[39m):\n\u001b[1;32m     31\u001b[0m     params, state \u001b[38;5;241m=\u001b[39m jit_update(params, state)\n\u001b[0;32m---> 32\u001b[0m     \u001b[43mupdate_line\u001b[49m\u001b[43m(\u001b[49m\u001b[43mloss_plot\u001b[49m\u001b[43m,\u001b[49m\u001b[43m \u001b[49m\u001b[43mi\u001b[49m\u001b[43m,\u001b[49m\u001b[43m \u001b[49m\u001b[43mstate\u001b[49m\u001b[38;5;241;43m.\u001b[39;49m\u001b[43mvalue\u001b[49m\u001b[43m)\u001b[49m\n",
      "Cell \u001b[0;32mIn[46], line 25\u001b[0m, in \u001b[0;36mupdate_line\u001b[0;34m(pl, new_x, new_y)\u001b[0m\n\u001b[1;32m     24\u001b[0m \u001b[38;5;28;01mdef\u001b[39;00m \u001b[38;5;21mupdate_line\u001b[39m(pl, new_x, new_y):\n\u001b[0;32m---> 25\u001b[0m     \u001b[43mpl\u001b[49m\u001b[38;5;241;43m.\u001b[39;49m\u001b[43mset_xdata\u001b[49m(np\u001b[38;5;241m.\u001b[39mappend(pl\u001b[38;5;241m.\u001b[39mget_xdata(), new_x))\n\u001b[1;32m     26\u001b[0m     pl\u001b[38;5;241m.\u001b[39mset_ydata(np\u001b[38;5;241m.\u001b[39mappend(pl\u001b[38;5;241m.\u001b[39mget_ydata(), new_y))\n\u001b[1;32m     27\u001b[0m     plt\u001b[38;5;241m.\u001b[39mdraw()\n",
      "\u001b[0;31mAttributeError\u001b[0m: 'list' object has no attribute 'set_xdata'"
     ]
    },
    {
     "data": {
      "image/png": "[encoded data removed]",
      "text/plain": [
       "<Figure size 500x300 with 1 Axes>"
      ]
     },
     "metadata": {},
     "output_type": "display_data"
    }
   ],
   "source": [
    "import jaxopt\n",
    "import jax\n",
    "\n",
    "\n",
    "solver = jaxopt.LBFGS(fun=model2.hamilton_filter, maxiter=500, tol=1e-8)\n",
    "\n",
    "# res = solver.run(init_params, endog=endog, exog=exog, state_exog=state_exog)\n",
    "\n",
    "\n",
    "@jax.jit\n",
    "def jit_update(params, state):\n",
    "    return solver.update(params, state, endog=endog, exog=exog, state_exog=state_exog)\n",
    "\n",
    "\n",
    "params = []\n",
    "params.append(init_params)\n",
    "\n",
    "state = solver.init_state(params, endog=endog, exog=exog, state_exog=state_exog)\n",
    "\n",
    "plt.figure(figsize=(5, 3))\n",
    "loss_plot = plt.plot([], [])\n",
    "\n",
    "\n",
    "def update_line(pl, new_x, new_y):\n",
    "    pl.set_xdata(np.append(pl.get_xdata(), new_x))\n",
    "    pl.set_ydata(np.append(pl.get_ydata(), new_y))\n",
    "    plt.draw()\n",
    "\n",
    "\n",
    "for i in range(500):\n",
    "    params, state = jit_update(params, state)\n",
    "    update_line(loss_plot, i, state.value)"
   ]
  },
  {
   "cell_type": "code",
   "execution_count": 59,
   "metadata": {},
   "outputs": [
    {
     "data": {
      "text/plain": [
       "Array(175.6078, dtype=float32)"
      ]
     },
     "execution_count": 59,
     "metadata": {},
     "output_type": "execute_result"
    }
   ],
   "source": [
    "state.value"
   ]
  },
  {
   "cell_type": "code",
   "execution_count": 60,
   "metadata": {},
   "outputs": [
    {
     "data": {
      "text/plain": [
       "[{'coeffs': Array([[-0.6647899 ,  0.08945924],\n",
       "         [-0.71921223,  1.6211666 ]], dtype=float32),\n",
       "  'rho': Array(-0.7819856, dtype=float32),\n",
       "  'sigmas': Array([0.3543711, 0.2102446], dtype=float32),\n",
       "  'state_coeffs': Array([[ 0.11718667, -0.30398402]], dtype=float32)}]"
      ]
     },
     "execution_count": 60,
     "metadata": {},
     "output_type": "execute_result"
    }
   ],
   "source": [
    "params"
   ]
  },
  {
   "cell_type": "code",
   "execution_count": 48,
   "metadata": {},
   "outputs": [
    {
     "data": {
      "text/plain": [
       "{'coeffs': array([[ 1., -1.],\n",
       "        [ 1., -1.]]),\n",
       " 'sigmas': array([0.33, 0.67]),\n",
       " 'rho': array(0.9),\n",
       " 'state_coeffs': array([0.52440051, 0.52440051])}"
      ]
     },
     "execution_count": 48,
     "metadata": {},
     "output_type": "execute_result"
    }
   ],
   "source": [
    "opt_params"
   ]
  },
  {
   "cell_type": "code",
   "execution_count": 58,
   "metadata": {},
   "outputs": [
    {
     "name": "stdout",
     "output_type": "stream",
     "text": [
      "(1, 1) (1, 2)\n",
      "(200, 1) (1, 2)\n"
     ]
    },
    {
     "data": {
      "text/plain": [
       "Array(190.22922, dtype=float32)"
      ]
     },
     "execution_count": 58,
     "metadata": {},
     "output_type": "execute_result"
    }
   ],
   "source": [
    "model2.hamilton_filter(opt_params, endog, exog, state_exog)"
   ]
  },
  {
   "cell_type": "code",
   "execution_count": 337,
   "metadata": {},
   "outputs": [
    {
     "name": "stderr",
     "output_type": "stream",
     "text": [
      "  0%|          | 0/200 [00:00<?, ?it/s]"
     ]
    },
    {
     "name": "stderr",
     "output_type": "stream",
     "text": [
      "100%|██████████| 200/200 [00:00<00:00, 4060.51it/s]\n"
     ]
    },
    {
     "data": {
      "text/plain": [
       "117.97128486904579"
      ]
     },
     "execution_count": 337,
     "metadata": {},
     "output_type": "execute_result"
    }
   ],
   "source": [
    "coeffs = np.array([[1.0, -1.0], [1.0, -1.0]])\n",
    "state_coeffs = np.array([[0.0, 0.0], [0.0, 0.0]])\n",
    "sigmas = np.array([0.33, 0.67])\n",
    "rho = 0.9\n",
    "model.hamilton_filter(coeffs, state_coeffs, rho, sigmas, endog, exog, state_exog)"
   ]
  },
  {
   "cell_type": "code",
   "execution_count": 328,
   "metadata": {},
   "outputs": [],
   "source": [
    "est_states = model.sample_states()"
   ]
  },
  {
   "cell_type": "code",
   "execution_count": 332,
   "metadata": {},
   "outputs": [
    {
     "data": {
      "text/plain": [
       "0.245"
      ]
     },
     "execution_count": 332,
     "metadata": {},
     "output_type": "execute_result"
    }
   ],
   "source": [
    "sum(abs(states - est_states)) / model.n_obs"
   ]
  },
  {
   "cell_type": "code",
   "execution_count": 279,
   "metadata": {},
   "outputs": [
    {
     "data": {
      "text/plain": [
       "array([0.39894228, 0.04947971])"
      ]
     },
     "execution_count": 279,
     "metadata": {},
     "output_type": "execute_result"
    }
   ],
   "source": [
    "from scipy import stats\n",
    "import numpy as np\n",
    "\n",
    "stats.norm.cdf(np.array([0, 1]))\n",
    "\n",
    "stats.norm.pdf(np.array([0, 1]), loc=0, scale=[1, 8])"
   ]
  },
  {
   "cell_type": "code",
   "execution_count": 61,
   "metadata": {},
   "outputs": [
    {
     "data": {
      "text/plain": [
       "(1, 2)"
      ]
     },
     "execution_count": 61,
     "metadata": {},
     "output_type": "execute_result"
    }
   ],
   "source": [
    "np.array([[1, 2]]).shape"
   ]
  },
  {
   "cell_type": "code",
   "execution_count": 60,
   "metadata": {},
   "outputs": [
    {
     "data": {
      "text/plain": [
       "array([[1, 4],\n",
       "       [3, 8]])"
      ]
     },
     "execution_count": 60,
     "metadata": {},
     "output_type": "execute_result"
    }
   ],
   "source": [
    "np.array([[1, 2], [3, 4]]) * np.array([[1, 2]])"
   ]
  },
  {
   "cell_type": "code",
   "execution_count": 10,
   "metadata": {},
   "outputs": [],
   "source": [
    "import numpy as np\n",
    "\n",
    "# illustrate functionality on a 2d array\n",
    "y = np.array([5, 10, 5, 15, 20, 25, 30, 35, 5, 10, 15, 20]).reshape(2, -1)"
   ]
  },
  {
   "cell_type": "code",
   "execution_count": 31,
   "metadata": {},
   "outputs": [
    {
     "data": {
      "text/plain": [
       "array([[4],\n",
       "       [5],\n",
       "       [6],\n",
       "       [7]])"
      ]
     },
     "execution_count": 31,
     "metadata": {},
     "output_type": "execute_result"
    }
   ],
   "source": [
    "np.arange(4, 8).reshape((4, 1))"
   ]
  },
  {
   "cell_type": "code",
   "execution_count": 37,
   "metadata": {},
   "outputs": [
    {
     "data": {
      "text/plain": [
       "(2, 2)"
      ]
     },
     "execution_count": 37,
     "metadata": {},
     "output_type": "execute_result"
    }
   ],
   "source": [
    "a, b = np.arange(4).reshape((2, 2)), np.arange(4, 8).reshape((2, 2))\n",
    "np.stack([a, b])[1, :, :].shape"
   ]
  },
  {
   "cell_type": "code",
   "execution_count": 48,
   "metadata": {},
   "outputs": [
    {
     "name": "stdout",
     "output_type": "stream",
     "text": [
      "[[[0 1]\n",
      "  [2 3]]]\n"
     ]
    },
    {
     "data": {
      "text/plain": [
       "array([[0, 1],\n",
       "       [2, 3]])"
      ]
     },
     "execution_count": 48,
     "metadata": {},
     "output_type": "execute_result"
    }
   ],
   "source": [
    "a = np.arange(4).reshape((1, 2, 2))\n",
    "print(a)\n",
    "a.reshape((2, 2))"
   ]
  },
  {
   "cell_type": "code",
   "execution_count": 49,
   "metadata": {},
   "outputs": [
    {
     "data": {
      "text/plain": [
       "numpy.ndarray"
      ]
     },
     "execution_count": 49,
     "metadata": {},
     "output_type": "execute_result"
    }
   ],
   "source": [
    "type(a)"
   ]
  },
  {
   "cell_type": "code",
   "execution_count": 41,
   "metadata": {},
   "outputs": [
    {
     "data": {
      "text/plain": [
       "0.024997895148220484"
      ]
     },
     "execution_count": 41,
     "metadata": {},
     "output_type": "execute_result"
    }
   ],
   "source": [
    "1 - stats.norm.cdf(1.96)"
   ]
  },
  {
   "cell_type": "code",
   "execution_count": 40,
   "metadata": {},
   "outputs": [
    {
     "data": {
      "text/plain": [
       "0.024997895148220435"
      ]
     },
     "execution_count": 40,
     "metadata": {},
     "output_type": "execute_result"
    }
   ],
   "source": [
    "stats.norm.cdf(-1.96)"
   ]
  },
  {
   "cell_type": "code",
   "execution_count": 12,
   "metadata": {},
   "outputs": [
    {
     "data": {
      "text/plain": [
       "array([[[ 5, 10],\n",
       "        [10,  5],\n",
       "        [ 5, 15],\n",
       "        [15, 20],\n",
       "        [20, 25]],\n",
       "\n",
       "       [[30, 35],\n",
       "        [35,  5],\n",
       "        [ 5, 10],\n",
       "        [10, 15],\n",
       "        [15, 20]]])"
      ]
     },
     "execution_count": 12,
     "metadata": {},
     "output_type": "execute_result"
    }
   ],
   "source": [
    "def running_view(arr, window, axis=-1):\n",
    "    \"\"\"\n",
    "    return a running view of length 'window' over 'axis'\n",
    "    the returned array has an extra last dimension, which spans the window\n",
    "    \"\"\"\n",
    "    shape = list(arr.shape)\n",
    "    shape[axis] -= window - 1\n",
    "    assert shape[axis] > 0\n",
    "    return np.lib.index_tricks.as_strided(\n",
    "        arr, shape + [window], arr.strides + (arr.strides[axis],)\n",
    "    )\n",
    "\n",
    "\n",
    "running_view(y, 2)"
   ]
  },
  {
   "cell_type": "code",
   "execution_count": 11,
   "metadata": {},
   "outputs": [],
   "source": [
    "df = pd.read_excel(\"ts_hw.xlsx\")"
   ]
  },
  {
   "cell_type": "code",
   "execution_count": 12,
   "metadata": {},
   "outputs": [],
   "source": [
    "df[\"year\"] = df[\"date\"].str[:4].astype(int)\n",
    "df[\"qtr\"] = df[\"date\"].str[6:].astype(int)"
   ]
  },
  {
   "cell_type": "code",
   "execution_count": 13,
   "metadata": {},
   "outputs": [
    {
     "data": {
      "text/html": [
       "<div>\n",
       "<style scoped>\n",
       "    .dataframe tbody tr th:only-of-type {\n",
       "        vertical-align: middle;\n",
       "    }\n",
       "\n",
       "    .dataframe tbody tr th {\n",
       "        vertical-align: top;\n",
       "    }\n",
       "\n",
       "    .dataframe thead th {\n",
       "        text-align: right;\n",
       "    }\n",
       "</style>\n",
       "<table border=\"1\" class=\"dataframe\">\n",
       "  <thead>\n",
       "    <tr style=\"text-align: right;\">\n",
       "      <th></th>\n",
       "      <th>date</th>\n",
       "      <th>gdp</th>\n",
       "      <th>eap_mln</th>\n",
       "      <th>emp_mln</th>\n",
       "      <th>unemp_mln</th>\n",
       "      <th>unemp_share</th>\n",
       "      <th>avg_monthly_nominal_accrued_wages_per_employee</th>\n",
       "      <th>real_accrued_wages_per_employee_qoq</th>\n",
       "      <th>cur_acc</th>\n",
       "      <th>trade_bal</th>\n",
       "      <th>...</th>\n",
       "      <th>Deficit_surplus_of_the_consolidated_budget</th>\n",
       "      <th>Inde_ of_output_of_goods_and_services_by_basic_types_of_economic_activity</th>\n",
       "      <th>dir_invest_of_rus</th>\n",
       "      <th>dir_invest_in_rus</th>\n",
       "      <th>gross_fix_capital_formation_qoq</th>\n",
       "      <th>gov_final_cons_rub</th>\n",
       "      <th>private_final_cons_rub</th>\n",
       "      <th>brent_price_doll</th>\n",
       "      <th>year</th>\n",
       "      <th>qtr</th>\n",
       "    </tr>\n",
       "  </thead>\n",
       "  <tbody>\n",
       "    <tr>\n",
       "      <th>0</th>\n",
       "      <td>2000q01</td>\n",
       "      <td>1527.4227000</td>\n",
       "      <td>72.4000000</td>\n",
       "      <td>63.6000000</td>\n",
       "      <td>8.8000000</td>\n",
       "      <td>0.1215470</td>\n",
       "      <td>1899</td>\n",
       "      <td>1.2530000</td>\n",
       "      <td>11506.9000000</td>\n",
       "      <td>13421.4700000</td>\n",
       "      <td>...</td>\n",
       "      <td>98.4000000</td>\n",
       "      <td>101.1700000</td>\n",
       "      <td>157.3300000</td>\n",
       "      <td>NaN</td>\n",
       "      <td>NaN</td>\n",
       "      <td>NaN</td>\n",
       "      <td>NaN</td>\n",
       "      <td>25.1700000</td>\n",
       "      <td>2000</td>\n",
       "      <td>1</td>\n",
       "    </tr>\n",
       "    <tr>\n",
       "      <th>1</th>\n",
       "      <td>2000q02</td>\n",
       "      <td>1696.6486000</td>\n",
       "      <td>73.3000000</td>\n",
       "      <td>65.6000000</td>\n",
       "      <td>7.7000000</td>\n",
       "      <td>0.1050477</td>\n",
       "      <td>2148</td>\n",
       "      <td>1.2200000</td>\n",
       "      <td>11279.6100000</td>\n",
       "      <td>14265.0800000</td>\n",
       "      <td>...</td>\n",
       "      <td>213.5000000</td>\n",
       "      <td>103.9000000</td>\n",
       "      <td>22.6900000</td>\n",
       "      <td>NaN</td>\n",
       "      <td>NaN</td>\n",
       "      <td>NaN</td>\n",
       "      <td>NaN</td>\n",
       "      <td>27.5900000</td>\n",
       "      <td>2000</td>\n",
       "      <td>2</td>\n",
       "    </tr>\n",
       "    <tr>\n",
       "      <th>2</th>\n",
       "      <td>2000q03</td>\n",
       "      <td>2037.8450000</td>\n",
       "      <td>73.0000000</td>\n",
       "      <td>65.8000000</td>\n",
       "      <td>7.2000000</td>\n",
       "      <td>0.0986301</td>\n",
       "      <td>2336</td>\n",
       "      <td>1.2470000</td>\n",
       "      <td>10139.6900000</td>\n",
       "      <td>14650.6900000</td>\n",
       "      <td>...</td>\n",
       "      <td>288.1000000</td>\n",
       "      <td>105.1700000</td>\n",
       "      <td>288.5300000</td>\n",
       "      <td>NaN</td>\n",
       "      <td>NaN</td>\n",
       "      <td>NaN</td>\n",
       "      <td>NaN</td>\n",
       "      <td>29.5000000</td>\n",
       "      <td>2000</td>\n",
       "      <td>3</td>\n",
       "    </tr>\n",
       "    <tr>\n",
       "      <th>3</th>\n",
       "      <td>2000q04</td>\n",
       "      <td>2043.7300000</td>\n",
       "      <td>72.3000000</td>\n",
       "      <td>65.2000000</td>\n",
       "      <td>7.1000000</td>\n",
       "      <td>0.0982019</td>\n",
       "      <td>2652</td>\n",
       "      <td>1.1780000</td>\n",
       "      <td>12456.1800000</td>\n",
       "      <td>14751.9000000</td>\n",
       "      <td>...</td>\n",
       "      <td>137.6000000</td>\n",
       "      <td>106.9000000</td>\n",
       "      <td>32.2500000</td>\n",
       "      <td>NaN</td>\n",
       "      <td>NaN</td>\n",
       "      <td>NaN</td>\n",
       "      <td>NaN</td>\n",
       "      <td>28.8400000</td>\n",
       "      <td>2000</td>\n",
       "      <td>4</td>\n",
       "    </tr>\n",
       "    <tr>\n",
       "      <th>4</th>\n",
       "      <td>2001q01</td>\n",
       "      <td>1900.8728000</td>\n",
       "      <td>71.3000000</td>\n",
       "      <td>64.3000000</td>\n",
       "      <td>7.0000000</td>\n",
       "      <td>0.0981767</td>\n",
       "      <td>2781</td>\n",
       "      <td>1.2000000</td>\n",
       "      <td>11254.7500000</td>\n",
       "      <td>13610.4100000</td>\n",
       "      <td>...</td>\n",
       "      <td>352.8000000</td>\n",
       "      <td>108.4000000</td>\n",
       "      <td>237.4060000</td>\n",
       "      <td>NaN</td>\n",
       "      <td>NaN</td>\n",
       "      <td>NaN</td>\n",
       "      <td>NaN</td>\n",
       "      <td>25.6600000</td>\n",
       "      <td>2001</td>\n",
       "      <td>1</td>\n",
       "    </tr>\n",
       "    <tr>\n",
       "      <th>...</th>\n",
       "      <td>...</td>\n",
       "      <td>...</td>\n",
       "      <td>...</td>\n",
       "      <td>...</td>\n",
       "      <td>...</td>\n",
       "      <td>...</td>\n",
       "      <td>...</td>\n",
       "      <td>...</td>\n",
       "      <td>...</td>\n",
       "      <td>...</td>\n",
       "      <td>...</td>\n",
       "      <td>...</td>\n",
       "      <td>...</td>\n",
       "      <td>...</td>\n",
       "      <td>...</td>\n",
       "      <td>...</td>\n",
       "      <td>...</td>\n",
       "      <td>...</td>\n",
       "      <td>...</td>\n",
       "      <td>...</td>\n",
       "      <td>...</td>\n",
       "    </tr>\n",
       "    <tr>\n",
       "      <th>75</th>\n",
       "      <td>2018q04</td>\n",
       "      <td>29220.5841415</td>\n",
       "      <td>76.3000000</td>\n",
       "      <td>72.6000000</td>\n",
       "      <td>3.7000000</td>\n",
       "      <td>0.0484928</td>\n",
       "      <td>46850</td>\n",
       "      <td>1.0410000</td>\n",
       "      <td>38399.5800000</td>\n",
       "      <td>57109.9400000</td>\n",
       "      <td>...</td>\n",
       "      <td>3035.6410723</td>\n",
       "      <td>104.3107726</td>\n",
       "      <td>10353.5597530</td>\n",
       "      <td>1506.3307333</td>\n",
       "      <td>-6.9491385</td>\n",
       "      <td>4705167400000.0000000</td>\n",
       "      <td>13472816112002.9003906</td>\n",
       "      <td>60.5700000</td>\n",
       "      <td>2018</td>\n",
       "      <td>4</td>\n",
       "    </tr>\n",
       "    <tr>\n",
       "      <th>76</th>\n",
       "      <td>2019q01</td>\n",
       "      <td>24608.6014321</td>\n",
       "      <td>75.0000000</td>\n",
       "      <td>71.4000000</td>\n",
       "      <td>3.6000000</td>\n",
       "      <td>0.0480000</td>\n",
       "      <td>43944</td>\n",
       "      <td>1.0130000</td>\n",
       "      <td>33554.8000000</td>\n",
       "      <td>46974.6100000</td>\n",
       "      <td>...</td>\n",
       "      <td>1334.7365205</td>\n",
       "      <td>101.0473952</td>\n",
       "      <td>-1242.9160443</td>\n",
       "      <td>10902.4433345</td>\n",
       "      <td>3.6376871</td>\n",
       "      <td>4943953500000.0000000</td>\n",
       "      <td>13713994603557.2988281</td>\n",
       "      <td>68.5600000</td>\n",
       "      <td>2019</td>\n",
       "      <td>1</td>\n",
       "    </tr>\n",
       "    <tr>\n",
       "      <th>77</th>\n",
       "      <td>2019q02</td>\n",
       "      <td>26628.5898787</td>\n",
       "      <td>75.0000000</td>\n",
       "      <td>71.6000000</td>\n",
       "      <td>3.4000000</td>\n",
       "      <td>0.0453333</td>\n",
       "      <td>48453</td>\n",
       "      <td>1.0260000</td>\n",
       "      <td>10006.3800000</td>\n",
       "      <td>39467.2400000</td>\n",
       "      <td>...</td>\n",
       "      <td>2637.3531368</td>\n",
       "      <td>101.4973782</td>\n",
       "      <td>-1325.6902836</td>\n",
       "      <td>6030.5997199</td>\n",
       "      <td>1.8050324</td>\n",
       "      <td>5010603700000.0000000</td>\n",
       "      <td>13874554887008.9003906</td>\n",
       "      <td>64.0500000</td>\n",
       "      <td>2019</td>\n",
       "      <td>2</td>\n",
       "    </tr>\n",
       "    <tr>\n",
       "      <th>78</th>\n",
       "      <td>2019q03</td>\n",
       "      <td>28346.0315657</td>\n",
       "      <td>75.6000000</td>\n",
       "      <td>72.3000000</td>\n",
       "      <td>3.3000000</td>\n",
       "      <td>0.0436508</td>\n",
       "      <td>45726</td>\n",
       "      <td>1.0300000</td>\n",
       "      <td>10885.7300000</td>\n",
       "      <td>37986.6500000</td>\n",
       "      <td>...</td>\n",
       "      <td>3993.5013535</td>\n",
       "      <td>103.7162541</td>\n",
       "      <td>-6866.3252451</td>\n",
       "      <td>8943.6188985</td>\n",
       "      <td>0.8511140</td>\n",
       "      <td>5024368300000.0000000</td>\n",
       "      <td>14063215391377.3007812</td>\n",
       "      <td>61.1500000</td>\n",
       "      <td>2019</td>\n",
       "      <td>3</td>\n",
       "    </tr>\n",
       "    <tr>\n",
       "      <th>79</th>\n",
       "      <td>2019q04</td>\n",
       "      <td>30025.0828648</td>\n",
       "      <td>75.9000000</td>\n",
       "      <td>72.4000000</td>\n",
       "      <td>3.5000000</td>\n",
       "      <td>0.0461133</td>\n",
       "      <td>51684</td>\n",
       "      <td>1.0460000</td>\n",
       "      <td>10160.4600000</td>\n",
       "      <td>39906.2300000</td>\n",
       "      <td>...</td>\n",
       "      <td>2115.3442810</td>\n",
       "      <td>103.0905771</td>\n",
       "      <td>-616.7081238</td>\n",
       "      <td>6098.0683713</td>\n",
       "      <td>-2.5732295</td>\n",
       "      <td>5088226800000.0000000</td>\n",
       "      <td>14243258918056.5996094</td>\n",
       "      <td>58.2300000</td>\n",
       "      <td>2019</td>\n",
       "      <td>4</td>\n",
       "    </tr>\n",
       "  </tbody>\n",
       "</table>\n",
       "<p>80 rows × 34 columns</p>\n",
       "</div>"
      ],
      "text/plain": [
       "       date           gdp    eap_mln    emp_mln  unemp_mln  unemp_share  \\\n",
       "0   2000q01  1527.4227000 72.4000000 63.6000000  8.8000000    0.1215470   \n",
       "1   2000q02  1696.6486000 73.3000000 65.6000000  7.7000000    0.1050477   \n",
       "2   2000q03  2037.8450000 73.0000000 65.8000000  7.2000000    0.0986301   \n",
       "3   2000q04  2043.7300000 72.3000000 65.2000000  7.1000000    0.0982019   \n",
       "4   2001q01  1900.8728000 71.3000000 64.3000000  7.0000000    0.0981767   \n",
       "..      ...           ...        ...        ...        ...          ...   \n",
       "75  2018q04 29220.5841415 76.3000000 72.6000000  3.7000000    0.0484928   \n",
       "76  2019q01 24608.6014321 75.0000000 71.4000000  3.6000000    0.0480000   \n",
       "77  2019q02 26628.5898787 75.0000000 71.6000000  3.4000000    0.0453333   \n",
       "78  2019q03 28346.0315657 75.6000000 72.3000000  3.3000000    0.0436508   \n",
       "79  2019q04 30025.0828648 75.9000000 72.4000000  3.5000000    0.0461133   \n",
       "\n",
       "    avg_monthly_nominal_accrued_wages_per_employee  \\\n",
       "0                                             1899   \n",
       "1                                             2148   \n",
       "2                                             2336   \n",
       "3                                             2652   \n",
       "4                                             2781   \n",
       "..                                             ...   \n",
       "75                                           46850   \n",
       "76                                           43944   \n",
       "77                                           48453   \n",
       "78                                           45726   \n",
       "79                                           51684   \n",
       "\n",
       "    real_accrued_wages_per_employee_qoq       cur_acc     trade_bal  ...  \\\n",
       "0                             1.2530000 11506.9000000 13421.4700000  ...   \n",
       "1                             1.2200000 11279.6100000 14265.0800000  ...   \n",
       "2                             1.2470000 10139.6900000 14650.6900000  ...   \n",
       "3                             1.1780000 12456.1800000 14751.9000000  ...   \n",
       "4                             1.2000000 11254.7500000 13610.4100000  ...   \n",
       "..                                  ...           ...           ...  ...   \n",
       "75                            1.0410000 38399.5800000 57109.9400000  ...   \n",
       "76                            1.0130000 33554.8000000 46974.6100000  ...   \n",
       "77                            1.0260000 10006.3800000 39467.2400000  ...   \n",
       "78                            1.0300000 10885.7300000 37986.6500000  ...   \n",
       "79                            1.0460000 10160.4600000 39906.2300000  ...   \n",
       "\n",
       "    Deficit_surplus_of_the_consolidated_budget  \\\n",
       "0                                   98.4000000   \n",
       "1                                  213.5000000   \n",
       "2                                  288.1000000   \n",
       "3                                  137.6000000   \n",
       "4                                  352.8000000   \n",
       "..                                         ...   \n",
       "75                                3035.6410723   \n",
       "76                                1334.7365205   \n",
       "77                                2637.3531368   \n",
       "78                                3993.5013535   \n",
       "79                                2115.3442810   \n",
       "\n",
       "    Inde_ of_output_of_goods_and_services_by_basic_types_of_economic_activity  \\\n",
       "0                                         101.1700000                           \n",
       "1                                         103.9000000                           \n",
       "2                                         105.1700000                           \n",
       "3                                         106.9000000                           \n",
       "4                                         108.4000000                           \n",
       "..                                                ...                           \n",
       "75                                        104.3107726                           \n",
       "76                                        101.0473952                           \n",
       "77                                        101.4973782                           \n",
       "78                                        103.7162541                           \n",
       "79                                        103.0905771                           \n",
       "\n",
       "    dir_invest_of_rus  dir_invest_in_rus  gross_fix_capital_formation_qoq  \\\n",
       "0         157.3300000                NaN                              NaN   \n",
       "1          22.6900000                NaN                              NaN   \n",
       "2         288.5300000                NaN                              NaN   \n",
       "3          32.2500000                NaN                              NaN   \n",
       "4         237.4060000                NaN                              NaN   \n",
       "..                ...                ...                              ...   \n",
       "75      10353.5597530       1506.3307333                       -6.9491385   \n",
       "76      -1242.9160443      10902.4433345                        3.6376871   \n",
       "77      -1325.6902836       6030.5997199                        1.8050324   \n",
       "78      -6866.3252451       8943.6188985                        0.8511140   \n",
       "79       -616.7081238       6098.0683713                       -2.5732295   \n",
       "\n",
       "      gov_final_cons_rub  private_final_cons_rub  brent_price_doll  year  qtr  \n",
       "0                    NaN                     NaN        25.1700000  2000    1  \n",
       "1                    NaN                     NaN        27.5900000  2000    2  \n",
       "2                    NaN                     NaN        29.5000000  2000    3  \n",
       "3                    NaN                     NaN        28.8400000  2000    4  \n",
       "4                    NaN                     NaN        25.6600000  2001    1  \n",
       "..                   ...                     ...               ...   ...  ...  \n",
       "75 4705167400000.0000000  13472816112002.9003906        60.5700000  2018    4  \n",
       "76 4943953500000.0000000  13713994603557.2988281        68.5600000  2019    1  \n",
       "77 5010603700000.0000000  13874554887008.9003906        64.0500000  2019    2  \n",
       "78 5024368300000.0000000  14063215391377.3007812        61.1500000  2019    3  \n",
       "79 5088226800000.0000000  14243258918056.5996094        58.2300000  2019    4  \n",
       "\n",
       "[80 rows x 34 columns]"
      ]
     },
     "execution_count": 13,
     "metadata": {},
     "output_type": "execute_result"
    }
   ],
   "source": [
    "df"
   ]
  },
  {
   "cell_type": "code",
   "execution_count": 14,
   "metadata": {},
   "outputs": [],
   "source": [
    "df = df[df[\"year\"] > 2015]"
   ]
  },
  {
   "cell_type": "code",
   "execution_count": 15,
   "metadata": {},
   "outputs": [
    {
     "data": {
      "text/html": [
       "<div>\n",
       "<style scoped>\n",
       "    .dataframe tbody tr th:only-of-type {\n",
       "        vertical-align: middle;\n",
       "    }\n",
       "\n",
       "    .dataframe tbody tr th {\n",
       "        vertical-align: top;\n",
       "    }\n",
       "\n",
       "    .dataframe thead th {\n",
       "        text-align: right;\n",
       "    }\n",
       "</style>\n",
       "<table border=\"1\" class=\"dataframe\">\n",
       "  <thead>\n",
       "    <tr style=\"text-align: right;\">\n",
       "      <th></th>\n",
       "      <th>date</th>\n",
       "      <th>gdp</th>\n",
       "      <th>eap_mln</th>\n",
       "      <th>emp_mln</th>\n",
       "      <th>unemp_mln</th>\n",
       "      <th>unemp_share</th>\n",
       "      <th>avg_monthly_nominal_accrued_wages_per_employee</th>\n",
       "      <th>real_accrued_wages_per_employee_qoq</th>\n",
       "      <th>cur_acc</th>\n",
       "      <th>trade_bal</th>\n",
       "      <th>...</th>\n",
       "      <th>Deficit_surplus_of_the_consolidated_budget</th>\n",
       "      <th>Inde_ of_output_of_goods_and_services_by_basic_types_of_economic_activity</th>\n",
       "      <th>dir_invest_of_rus</th>\n",
       "      <th>dir_invest_in_rus</th>\n",
       "      <th>gross_fix_capital_formation_qoq</th>\n",
       "      <th>gov_final_cons_rub</th>\n",
       "      <th>private_final_cons_rub</th>\n",
       "      <th>brent_price_doll</th>\n",
       "      <th>year</th>\n",
       "      <th>qtr</th>\n",
       "    </tr>\n",
       "  </thead>\n",
       "  <tbody>\n",
       "    <tr>\n",
       "      <th>64</th>\n",
       "      <td>2016q01</td>\n",
       "      <td>18885.1210828</td>\n",
       "      <td>76.0000000</td>\n",
       "      <td>71.5000000</td>\n",
       "      <td>4.5000000</td>\n",
       "      <td>0.0592105</td>\n",
       "      <td>34000</td>\n",
       "      <td>0.9940000</td>\n",
       "      <td>12534.9300000</td>\n",
       "      <td>22411.3400000</td>\n",
       "      <td>...</td>\n",
       "      <td>-462.9605686</td>\n",
       "      <td>100.2210766</td>\n",
       "      <td>7758.8144470</td>\n",
       "      <td>63.9291749</td>\n",
       "      <td>-2.3140457</td>\n",
       "      <td>3878496500000.0000000</td>\n",
       "      <td>11205972931461.0000000</td>\n",
       "      <td>45.8100000</td>\n",
       "      <td>2016</td>\n",
       "      <td>1</td>\n",
       "    </tr>\n",
       "    <tr>\n",
       "      <th>65</th>\n",
       "      <td>2016q02</td>\n",
       "      <td>20452.2346452</td>\n",
       "      <td>76.5000000</td>\n",
       "      <td>72.2000000</td>\n",
       "      <td>4.3000000</td>\n",
       "      <td>0.0562092</td>\n",
       "      <td>37404</td>\n",
       "      <td>1.0030000</td>\n",
       "      <td>1781.0400000</td>\n",
       "      <td>22298.1100000</td>\n",
       "      <td>...</td>\n",
       "      <td>-1061.4047081</td>\n",
       "      <td>100.0773299</td>\n",
       "      <td>-174.7937170</td>\n",
       "      <td>7467.8227224</td>\n",
       "      <td>3.0179279</td>\n",
       "      <td>3931777400000.0000000</td>\n",
       "      <td>11307660887711.4003906</td>\n",
       "      <td>46.3900000</td>\n",
       "      <td>2016</td>\n",
       "      <td>2</td>\n",
       "    </tr>\n",
       "    <tr>\n",
       "      <th>66</th>\n",
       "      <td>2016q03</td>\n",
       "      <td>22235.1152234</td>\n",
       "      <td>77.3000000</td>\n",
       "      <td>73.2000000</td>\n",
       "      <td>4.1000000</td>\n",
       "      <td>0.0530401</td>\n",
       "      <td>35744</td>\n",
       "      <td>1.0120000</td>\n",
       "      <td>128.5100000</td>\n",
       "      <td>18366.0600000</td>\n",
       "      <td>...</td>\n",
       "      <td>-1119.0425429</td>\n",
       "      <td>101.2728884</td>\n",
       "      <td>-2184.8240200</td>\n",
       "      <td>4283.8541452</td>\n",
       "      <td>0.6977012</td>\n",
       "      <td>3965673700000.0000000</td>\n",
       "      <td>11441616274949.5000000</td>\n",
       "      <td>49.2800000</td>\n",
       "      <td>2016</td>\n",
       "      <td>3</td>\n",
       "    </tr>\n",
       "    <tr>\n",
       "      <th>67</th>\n",
       "      <td>2016q04</td>\n",
       "      <td>24043.6128499</td>\n",
       "      <td>76.7000000</td>\n",
       "      <td>72.6000000</td>\n",
       "      <td>4.1000000</td>\n",
       "      <td>0.0534550</td>\n",
       "      <td>39824</td>\n",
       "      <td>1.0180000</td>\n",
       "      <td>10024.2900000</td>\n",
       "      <td>27139.1900000</td>\n",
       "      <td>...</td>\n",
       "      <td>-3142.1381619</td>\n",
       "      <td>102.5714574</td>\n",
       "      <td>-15623.7764670</td>\n",
       "      <td>20723.3037418</td>\n",
       "      <td>6.3628774</td>\n",
       "      <td>4033826600000.0000000</td>\n",
       "      <td>11633493905878.1992188</td>\n",
       "      <td>56.0400000</td>\n",
       "      <td>2016</td>\n",
       "      <td>4</td>\n",
       "    </tr>\n",
       "    <tr>\n",
       "      <th>68</th>\n",
       "      <td>2017q01</td>\n",
       "      <td>20586.1190604</td>\n",
       "      <td>75.7000000</td>\n",
       "      <td>71.5000000</td>\n",
       "      <td>4.2000000</td>\n",
       "      <td>0.0554822</td>\n",
       "      <td>35983</td>\n",
       "      <td>1.0180000</td>\n",
       "      <td>21138.3300000</td>\n",
       "      <td>34461.0800000</td>\n",
       "      <td>...</td>\n",
       "      <td>144.1148379</td>\n",
       "      <td>103.4348109</td>\n",
       "      <td>2561.9049110</td>\n",
       "      <td>5280.3156753</td>\n",
       "      <td>-0.6028293</td>\n",
       "      <td>4114561399999.9995117</td>\n",
       "      <td>11824717023439.2988281</td>\n",
       "      <td>51.6200000</td>\n",
       "      <td>2017</td>\n",
       "      <td>1</td>\n",
       "    </tr>\n",
       "    <tr>\n",
       "      <th>69</th>\n",
       "      <td>2017q02</td>\n",
       "      <td>21917.5737734</td>\n",
       "      <td>75.8000000</td>\n",
       "      <td>71.9000000</td>\n",
       "      <td>3.9000000</td>\n",
       "      <td>0.0514512</td>\n",
       "      <td>40103</td>\n",
       "      <td>1.0340000</td>\n",
       "      <td>1716.2900000</td>\n",
       "      <td>25212.7800000</td>\n",
       "      <td>...</td>\n",
       "      <td>64.5308316</td>\n",
       "      <td>105.2438342</td>\n",
       "      <td>-5390.3249846</td>\n",
       "      <td>13014.4431521</td>\n",
       "      <td>2.3860432</td>\n",
       "      <td>4176204100000.0000000</td>\n",
       "      <td>12041987230481.1992188</td>\n",
       "      <td>50.9800000</td>\n",
       "      <td>2017</td>\n",
       "      <td>2</td>\n",
       "    </tr>\n",
       "    <tr>\n",
       "      <th>70</th>\n",
       "      <td>2017q03</td>\n",
       "      <td>23718.2161506</td>\n",
       "      <td>76.5000000</td>\n",
       "      <td>72.7000000</td>\n",
       "      <td>3.8000000</td>\n",
       "      <td>0.0496732</td>\n",
       "      <td>37723</td>\n",
       "      <td>1.0310000</td>\n",
       "      <td>-3174.3600000</td>\n",
       "      <td>20737.8300000</td>\n",
       "      <td>...</td>\n",
       "      <td>389.3552516</td>\n",
       "      <td>104.9014536</td>\n",
       "      <td>1530.7739150</td>\n",
       "      <td>8084.1625255</td>\n",
       "      <td>-3.5928640</td>\n",
       "      <td>4187605700000.0000000</td>\n",
       "      <td>12251472464708.5996094</td>\n",
       "      <td>60.8300000</td>\n",
       "      <td>2017</td>\n",
       "      <td>3</td>\n",
       "    </tr>\n",
       "    <tr>\n",
       "      <th>71</th>\n",
       "      <td>2017q04</td>\n",
       "      <td>25621.2452341</td>\n",
       "      <td>76.5000000</td>\n",
       "      <td>72.6000000</td>\n",
       "      <td>3.9000000</td>\n",
       "      <td>0.0509804</td>\n",
       "      <td>42797</td>\n",
       "      <td>1.0520000</td>\n",
       "      <td>13476.0300000</td>\n",
       "      <td>35010.2400000</td>\n",
       "      <td>...</td>\n",
       "      <td>-1349.0736940</td>\n",
       "      <td>101.3482360</td>\n",
       "      <td>9497.2064420</td>\n",
       "      <td>2178.4605003</td>\n",
       "      <td>3.4675682</td>\n",
       "      <td>4252538800000.0004883</td>\n",
       "      <td>12440431981370.8007812</td>\n",
       "      <td>67.2300000</td>\n",
       "      <td>2017</td>\n",
       "      <td>4</td>\n",
       "    </tr>\n",
       "    <tr>\n",
       "      <th>72</th>\n",
       "      <td>2018q01</td>\n",
       "      <td>22474.4642928</td>\n",
       "      <td>75.9000000</td>\n",
       "      <td>72.1000000</td>\n",
       "      <td>3.8000000</td>\n",
       "      <td>0.0500659</td>\n",
       "      <td>40691</td>\n",
       "      <td>1.1020000</td>\n",
       "      <td>30023.5500000</td>\n",
       "      <td>44219.9300000</td>\n",
       "      <td>...</td>\n",
       "      <td>712.7136417</td>\n",
       "      <td>103.7029338</td>\n",
       "      <td>5607.3866936</td>\n",
       "      <td>7790.5950213</td>\n",
       "      <td>2.4273478</td>\n",
       "      <td>4503307600000.0000000</td>\n",
       "      <td>12676847061801.6992188</td>\n",
       "      <td>74.3400000</td>\n",
       "      <td>2018</td>\n",
       "      <td>1</td>\n",
       "    </tr>\n",
       "    <tr>\n",
       "      <th>73</th>\n",
       "      <td>2018q02</td>\n",
       "      <td>24969.7591048</td>\n",
       "      <td>76.0000000</td>\n",
       "      <td>72.4000000</td>\n",
       "      <td>3.6000000</td>\n",
       "      <td>0.0473684</td>\n",
       "      <td>44477</td>\n",
       "      <td>1.0760000</td>\n",
       "      <td>17905.0300000</td>\n",
       "      <td>45351.0000000</td>\n",
       "      <td>...</td>\n",
       "      <td>1514.6967747</td>\n",
       "      <td>103.8671898</td>\n",
       "      <td>2501.0267883</td>\n",
       "      <td>2357.9420795</td>\n",
       "      <td>-4.1668894</td>\n",
       "      <td>4577218300000.0000000</td>\n",
       "      <td>12964770336549.9003906</td>\n",
       "      <td>77.0400000</td>\n",
       "      <td>2018</td>\n",
       "      <td>2</td>\n",
       "    </tr>\n",
       "    <tr>\n",
       "      <th>74</th>\n",
       "      <td>2018q03</td>\n",
       "      <td>27196.8435500</td>\n",
       "      <td>76.6000000</td>\n",
       "      <td>73.1000000</td>\n",
       "      <td>3.5000000</td>\n",
       "      <td>0.0456919</td>\n",
       "      <td>41830</td>\n",
       "      <td>1.0630000</td>\n",
       "      <td>27482.4700000</td>\n",
       "      <td>47769.6200000</td>\n",
       "      <td>...</td>\n",
       "      <td>3434.0957174</td>\n",
       "      <td>102.2687248</td>\n",
       "      <td>4130.0560176</td>\n",
       "      <td>-2870.0350044</td>\n",
       "      <td>5.7234995</td>\n",
       "      <td>4608630800000.0000000</td>\n",
       "      <td>13196455389645.5000000</td>\n",
       "      <td>72.3000000</td>\n",
       "      <td>2018</td>\n",
       "      <td>3</td>\n",
       "    </tr>\n",
       "    <tr>\n",
       "      <th>75</th>\n",
       "      <td>2018q04</td>\n",
       "      <td>29220.5841415</td>\n",
       "      <td>76.3000000</td>\n",
       "      <td>72.6000000</td>\n",
       "      <td>3.7000000</td>\n",
       "      <td>0.0484928</td>\n",
       "      <td>46850</td>\n",
       "      <td>1.0410000</td>\n",
       "      <td>38399.5800000</td>\n",
       "      <td>57109.9400000</td>\n",
       "      <td>...</td>\n",
       "      <td>3035.6410723</td>\n",
       "      <td>104.3107726</td>\n",
       "      <td>10353.5597530</td>\n",
       "      <td>1506.3307333</td>\n",
       "      <td>-6.9491385</td>\n",
       "      <td>4705167400000.0000000</td>\n",
       "      <td>13472816112002.9003906</td>\n",
       "      <td>60.5700000</td>\n",
       "      <td>2018</td>\n",
       "      <td>4</td>\n",
       "    </tr>\n",
       "    <tr>\n",
       "      <th>76</th>\n",
       "      <td>2019q01</td>\n",
       "      <td>24608.6014321</td>\n",
       "      <td>75.0000000</td>\n",
       "      <td>71.4000000</td>\n",
       "      <td>3.6000000</td>\n",
       "      <td>0.0480000</td>\n",
       "      <td>43944</td>\n",
       "      <td>1.0130000</td>\n",
       "      <td>33554.8000000</td>\n",
       "      <td>46974.6100000</td>\n",
       "      <td>...</td>\n",
       "      <td>1334.7365205</td>\n",
       "      <td>101.0473952</td>\n",
       "      <td>-1242.9160443</td>\n",
       "      <td>10902.4433345</td>\n",
       "      <td>3.6376871</td>\n",
       "      <td>4943953500000.0000000</td>\n",
       "      <td>13713994603557.2988281</td>\n",
       "      <td>68.5600000</td>\n",
       "      <td>2019</td>\n",
       "      <td>1</td>\n",
       "    </tr>\n",
       "    <tr>\n",
       "      <th>77</th>\n",
       "      <td>2019q02</td>\n",
       "      <td>26628.5898787</td>\n",
       "      <td>75.0000000</td>\n",
       "      <td>71.6000000</td>\n",
       "      <td>3.4000000</td>\n",
       "      <td>0.0453333</td>\n",
       "      <td>48453</td>\n",
       "      <td>1.0260000</td>\n",
       "      <td>10006.3800000</td>\n",
       "      <td>39467.2400000</td>\n",
       "      <td>...</td>\n",
       "      <td>2637.3531368</td>\n",
       "      <td>101.4973782</td>\n",
       "      <td>-1325.6902836</td>\n",
       "      <td>6030.5997199</td>\n",
       "      <td>1.8050324</td>\n",
       "      <td>5010603700000.0000000</td>\n",
       "      <td>13874554887008.9003906</td>\n",
       "      <td>64.0500000</td>\n",
       "      <td>2019</td>\n",
       "      <td>2</td>\n",
       "    </tr>\n",
       "    <tr>\n",
       "      <th>78</th>\n",
       "      <td>2019q03</td>\n",
       "      <td>28346.0315657</td>\n",
       "      <td>75.6000000</td>\n",
       "      <td>72.3000000</td>\n",
       "      <td>3.3000000</td>\n",
       "      <td>0.0436508</td>\n",
       "      <td>45726</td>\n",
       "      <td>1.0300000</td>\n",
       "      <td>10885.7300000</td>\n",
       "      <td>37986.6500000</td>\n",
       "      <td>...</td>\n",
       "      <td>3993.5013535</td>\n",
       "      <td>103.7162541</td>\n",
       "      <td>-6866.3252451</td>\n",
       "      <td>8943.6188985</td>\n",
       "      <td>0.8511140</td>\n",
       "      <td>5024368300000.0000000</td>\n",
       "      <td>14063215391377.3007812</td>\n",
       "      <td>61.1500000</td>\n",
       "      <td>2019</td>\n",
       "      <td>3</td>\n",
       "    </tr>\n",
       "    <tr>\n",
       "      <th>79</th>\n",
       "      <td>2019q04</td>\n",
       "      <td>30025.0828648</td>\n",
       "      <td>75.9000000</td>\n",
       "      <td>72.4000000</td>\n",
       "      <td>3.5000000</td>\n",
       "      <td>0.0461133</td>\n",
       "      <td>51684</td>\n",
       "      <td>1.0460000</td>\n",
       "      <td>10160.4600000</td>\n",
       "      <td>39906.2300000</td>\n",
       "      <td>...</td>\n",
       "      <td>2115.3442810</td>\n",
       "      <td>103.0905771</td>\n",
       "      <td>-616.7081238</td>\n",
       "      <td>6098.0683713</td>\n",
       "      <td>-2.5732295</td>\n",
       "      <td>5088226800000.0000000</td>\n",
       "      <td>14243258918056.5996094</td>\n",
       "      <td>58.2300000</td>\n",
       "      <td>2019</td>\n",
       "      <td>4</td>\n",
       "    </tr>\n",
       "  </tbody>\n",
       "</table>\n",
       "<p>16 rows × 34 columns</p>\n",
       "</div>"
      ],
      "text/plain": [
       "       date           gdp    eap_mln    emp_mln  unemp_mln  unemp_share  \\\n",
       "64  2016q01 18885.1210828 76.0000000 71.5000000  4.5000000    0.0592105   \n",
       "65  2016q02 20452.2346452 76.5000000 72.2000000  4.3000000    0.0562092   \n",
       "66  2016q03 22235.1152234 77.3000000 73.2000000  4.1000000    0.0530401   \n",
       "67  2016q04 24043.6128499 76.7000000 72.6000000  4.1000000    0.0534550   \n",
       "68  2017q01 20586.1190604 75.7000000 71.5000000  4.2000000    0.0554822   \n",
       "69  2017q02 21917.5737734 75.8000000 71.9000000  3.9000000    0.0514512   \n",
       "70  2017q03 23718.2161506 76.5000000 72.7000000  3.8000000    0.0496732   \n",
       "71  2017q04 25621.2452341 76.5000000 72.6000000  3.9000000    0.0509804   \n",
       "72  2018q01 22474.4642928 75.9000000 72.1000000  3.8000000    0.0500659   \n",
       "73  2018q02 24969.7591048 76.0000000 72.4000000  3.6000000    0.0473684   \n",
       "74  2018q03 27196.8435500 76.6000000 73.1000000  3.5000000    0.0456919   \n",
       "75  2018q04 29220.5841415 76.3000000 72.6000000  3.7000000    0.0484928   \n",
       "76  2019q01 24608.6014321 75.0000000 71.4000000  3.6000000    0.0480000   \n",
       "77  2019q02 26628.5898787 75.0000000 71.6000000  3.4000000    0.0453333   \n",
       "78  2019q03 28346.0315657 75.6000000 72.3000000  3.3000000    0.0436508   \n",
       "79  2019q04 30025.0828648 75.9000000 72.4000000  3.5000000    0.0461133   \n",
       "\n",
       "    avg_monthly_nominal_accrued_wages_per_employee  \\\n",
       "64                                           34000   \n",
       "65                                           37404   \n",
       "66                                           35744   \n",
       "67                                           39824   \n",
       "68                                           35983   \n",
       "69                                           40103   \n",
       "70                                           37723   \n",
       "71                                           42797   \n",
       "72                                           40691   \n",
       "73                                           44477   \n",
       "74                                           41830   \n",
       "75                                           46850   \n",
       "76                                           43944   \n",
       "77                                           48453   \n",
       "78                                           45726   \n",
       "79                                           51684   \n",
       "\n",
       "    real_accrued_wages_per_employee_qoq       cur_acc     trade_bal  ...  \\\n",
       "64                            0.9940000 12534.9300000 22411.3400000  ...   \n",
       "65                            1.0030000  1781.0400000 22298.1100000  ...   \n",
       "66                            1.0120000   128.5100000 18366.0600000  ...   \n",
       "67                            1.0180000 10024.2900000 27139.1900000  ...   \n",
       "68                            1.0180000 21138.3300000 34461.0800000  ...   \n",
       "69                            1.0340000  1716.2900000 25212.7800000  ...   \n",
       "70                            1.0310000 -3174.3600000 20737.8300000  ...   \n",
       "71                            1.0520000 13476.0300000 35010.2400000  ...   \n",
       "72                            1.1020000 30023.5500000 44219.9300000  ...   \n",
       "73                            1.0760000 17905.0300000 45351.0000000  ...   \n",
       "74                            1.0630000 27482.4700000 47769.6200000  ...   \n",
       "75                            1.0410000 38399.5800000 57109.9400000  ...   \n",
       "76                            1.0130000 33554.8000000 46974.6100000  ...   \n",
       "77                            1.0260000 10006.3800000 39467.2400000  ...   \n",
       "78                            1.0300000 10885.7300000 37986.6500000  ...   \n",
       "79                            1.0460000 10160.4600000 39906.2300000  ...   \n",
       "\n",
       "    Deficit_surplus_of_the_consolidated_budget  \\\n",
       "64                                -462.9605686   \n",
       "65                               -1061.4047081   \n",
       "66                               -1119.0425429   \n",
       "67                               -3142.1381619   \n",
       "68                                 144.1148379   \n",
       "69                                  64.5308316   \n",
       "70                                 389.3552516   \n",
       "71                               -1349.0736940   \n",
       "72                                 712.7136417   \n",
       "73                                1514.6967747   \n",
       "74                                3434.0957174   \n",
       "75                                3035.6410723   \n",
       "76                                1334.7365205   \n",
       "77                                2637.3531368   \n",
       "78                                3993.5013535   \n",
       "79                                2115.3442810   \n",
       "\n",
       "    Inde_ of_output_of_goods_and_services_by_basic_types_of_economic_activity  \\\n",
       "64                                        100.2210766                           \n",
       "65                                        100.0773299                           \n",
       "66                                        101.2728884                           \n",
       "67                                        102.5714574                           \n",
       "68                                        103.4348109                           \n",
       "69                                        105.2438342                           \n",
       "70                                        104.9014536                           \n",
       "71                                        101.3482360                           \n",
       "72                                        103.7029338                           \n",
       "73                                        103.8671898                           \n",
       "74                                        102.2687248                           \n",
       "75                                        104.3107726                           \n",
       "76                                        101.0473952                           \n",
       "77                                        101.4973782                           \n",
       "78                                        103.7162541                           \n",
       "79                                        103.0905771                           \n",
       "\n",
       "    dir_invest_of_rus  dir_invest_in_rus  gross_fix_capital_formation_qoq  \\\n",
       "64       7758.8144470         63.9291749                       -2.3140457   \n",
       "65       -174.7937170       7467.8227224                        3.0179279   \n",
       "66      -2184.8240200       4283.8541452                        0.6977012   \n",
       "67     -15623.7764670      20723.3037418                        6.3628774   \n",
       "68       2561.9049110       5280.3156753                       -0.6028293   \n",
       "69      -5390.3249846      13014.4431521                        2.3860432   \n",
       "70       1530.7739150       8084.1625255                       -3.5928640   \n",
       "71       9497.2064420       2178.4605003                        3.4675682   \n",
       "72       5607.3866936       7790.5950213                        2.4273478   \n",
       "73       2501.0267883       2357.9420795                       -4.1668894   \n",
       "74       4130.0560176      -2870.0350044                        5.7234995   \n",
       "75      10353.5597530       1506.3307333                       -6.9491385   \n",
       "76      -1242.9160443      10902.4433345                        3.6376871   \n",
       "77      -1325.6902836       6030.5997199                        1.8050324   \n",
       "78      -6866.3252451       8943.6188985                        0.8511140   \n",
       "79       -616.7081238       6098.0683713                       -2.5732295   \n",
       "\n",
       "      gov_final_cons_rub  private_final_cons_rub  brent_price_doll  year  qtr  \n",
       "64 3878496500000.0000000  11205972931461.0000000        45.8100000  2016    1  \n",
       "65 3931777400000.0000000  11307660887711.4003906        46.3900000  2016    2  \n",
       "66 3965673700000.0000000  11441616274949.5000000        49.2800000  2016    3  \n",
       "67 4033826600000.0000000  11633493905878.1992188        56.0400000  2016    4  \n",
       "68 4114561399999.9995117  11824717023439.2988281        51.6200000  2017    1  \n",
       "69 4176204100000.0000000  12041987230481.1992188        50.9800000  2017    2  \n",
       "70 4187605700000.0000000  12251472464708.5996094        60.8300000  2017    3  \n",
       "71 4252538800000.0004883  12440431981370.8007812        67.2300000  2017    4  \n",
       "72 4503307600000.0000000  12676847061801.6992188        74.3400000  2018    1  \n",
       "73 4577218300000.0000000  12964770336549.9003906        77.0400000  2018    2  \n",
       "74 4608630800000.0000000  13196455389645.5000000        72.3000000  2018    3  \n",
       "75 4705167400000.0000000  13472816112002.9003906        60.5700000  2018    4  \n",
       "76 4943953500000.0000000  13713994603557.2988281        68.5600000  2019    1  \n",
       "77 5010603700000.0000000  13874554887008.9003906        64.0500000  2019    2  \n",
       "78 5024368300000.0000000  14063215391377.3007812        61.1500000  2019    3  \n",
       "79 5088226800000.0000000  14243258918056.5996094        58.2300000  2019    4  \n",
       "\n",
       "[16 rows x 34 columns]"
      ]
     },
     "execution_count": 15,
     "metadata": {},
     "output_type": "execute_result"
    }
   ],
   "source": [
    "df"
   ]
  },
  {
   "cell_type": "code",
   "execution_count": 21,
   "metadata": {},
   "outputs": [
    {
     "data": {
      "image/png": "[encoded data removed]",
      "text/plain": [
       "<Figure size 640x480 with 1 Axes>"
      ]
     },
     "metadata": {},
     "output_type": "display_data"
    }
   ],
   "source": [
    "sns.lineplot(data=df, x=\"date\", y=\"gdp\")\n",
    "plt.xticks(rotation=45)"
   ]
  },
  {
   "cell_type": "code",
   "execution_count": 22,
   "metadata": {},
   "outputs": [],
   "source": [
    "# TODO:\n",
    "# - implement EM to find loglik optimum\n",
    "# - markov decision process\n",
    "# - VARs themselves"
   ]
  },
  {
   "cell_type": "code",
   "execution_count": null,
   "metadata": {},
   "outputs": [],
   "source": []
  }
 ],
 "metadata": {
  "kernelspec": {
   "display_name": "Python 3",
   "language": "python",
   "name": "python3"
  },
  "language_info": {
   "codemirror_mode": {
    "name": "ipython",
    "version": 3
   },
   "file_extension": ".py",
   "mimetype": "text/x-python",
   "name": "python",
   "nbconvert_exporter": "python",
   "pygments_lexer": "ipython3",
   "version": "3.10.8"
  }
 },
 "nbformat": 4,
 "nbformat_minor": 2
}
